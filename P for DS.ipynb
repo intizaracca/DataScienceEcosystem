{
 "cells": [
  {
   "cell_type": "code",
   "execution_count": 2,
   "metadata": {},
   "outputs": [
    {
     "data": {
      "text/plain": [
       "5"
      ]
     },
     "execution_count": 2,
     "metadata": {},
     "output_type": "execute_result"
    }
   ],
   "source": [
    "11//2"
   ]
  },
  {
   "cell_type": "code",
   "execution_count": 4,
   "metadata": {},
   "outputs": [
    {
     "data": {
      "text/plain": [
       "False"
      ]
     },
     "execution_count": 4,
     "metadata": {},
     "output_type": "execute_result"
    }
   ],
   "source": [
    "1==2"
   ]
  },
  {
   "cell_type": "code",
   "execution_count": 6,
   "metadata": {},
   "outputs": [],
   "source": [
    "a=7\n"
   ]
  },
  {
   "cell_type": "code",
   "execution_count": 7,
   "metadata": {},
   "outputs": [
    {
     "data": {
      "text/plain": [
       "True"
      ]
     },
     "execution_count": 7,
     "metadata": {},
     "output_type": "execute_result"
    }
   ],
   "source": [
    "True or False"
   ]
  },
  {
   "cell_type": "code",
   "execution_count": 2,
   "metadata": {},
   "outputs": [
    {
     "name": "stdout",
     "output_type": "stream",
     "text": [
      "aa\n",
      "ba\n",
      "ca\n"
     ]
    }
   ],
   "source": [
    "for x in [\"a\",\"b\",\"c\"]:\n",
    "    print(x+\"a\")"
   ]
  },
  {
   "cell_type": "code",
   "execution_count": 4,
   "metadata": {},
   "outputs": [
    {
     "name": "stdout",
     "output_type": "stream",
     "text": [
      "Buddy says Woof!\n",
      "Rex says Woof!\n"
     ]
    }
   ],
   "source": [
    "## Object\n",
    "class Dog:\n",
    "    def __init__(self, name):\n",
    "        self.name = name\n",
    "\n",
    "    def bark(self):\n",
    "        print(f\"{self.name} says Woof!\")\n",
    "\n",
    "# Creating objects (instances) of the Dog class\n",
    "dog1 = Dog(\"Buddy\")\n",
    "dog2 = Dog(\"Rex\")\n",
    "\n",
    "# Calling methods on objects\n",
    "dog1.bark()  # Output: Buddy says Woof!\n",
    "dog2.bark()  # Output: Rex says Woof!\n"
   ]
  },
  {
   "cell_type": "code",
   "execution_count": 5,
   "metadata": {},
   "outputs": [
    {
     "name": "stdout",
     "output_type": "stream",
     "text": [
      "8\n"
     ]
    }
   ],
   "source": [
    "## Method\n",
    "class Calculator:\n",
    "    def add(self, x, y):\n",
    "        return x + y\n",
    "\n",
    "    def subtract(self, x, y):\n",
    "        return x - y\n",
    "\n",
    "calc = Calculator()\n",
    "result = calc.add(5, 3)\n",
    "print(result)  # Output: 8\n"
   ]
  },
  {
   "cell_type": "code",
   "execution_count": 6,
   "metadata": {},
   "outputs": [
    {
     "data": {
      "text/plain": [
       "4"
      ]
     },
     "execution_count": 6,
     "metadata": {},
     "output_type": "execute_result"
    }
   ],
   "source": [
    "calc.subtract(9,5)"
   ]
  },
  {
   "cell_type": "code",
   "execution_count": 7,
   "metadata": {},
   "outputs": [
    {
     "name": "stdout",
     "output_type": "stream",
     "text": [
      "My name is Alice and I am 25 years old.\n",
      "My name is Bob and I am 30 years old.\n"
     ]
    }
   ],
   "source": [
    "## class\n",
    "class Person:\n",
    "    def __init__(self, name, age):\n",
    "        self.name = name\n",
    "        self.age = age\n",
    "\n",
    "    def introduce(self):\n",
    "        print(f\"My name is {self.name} and I am {self.age} years old.\")\n",
    "\n",
    "person1 = Person(\"Alice\", 25)\n",
    "person2 = Person(\"Bob\", 30)\n",
    "\n",
    "person1.introduce()  # Output: My name is Alice and I am 25 years old.\n",
    "person2.introduce()  # Output: My name is Bob and I am 30 years old.\n"
   ]
  },
  {
   "cell_type": "code",
   "execution_count": 11,
   "metadata": {},
   "outputs": [
    {
     "name": "stdout",
     "output_type": "stream",
     "text": [
      "Toyota\n",
      "Toyota Camry's engine is started.\n"
     ]
    }
   ],
   "source": [
    "## attribute\n",
    "class Car:\n",
    "    def __init__(self, make, model):\n",
    "        self.make = make  # Data attribute\n",
    "        self.model = model  # Data attribute\n",
    "\n",
    "    def start_engine(self):\n",
    "        print(f\"{self.make} {self.model}'s engine is started.\")  # Method\n",
    "\n",
    "car1 = Car(\"Toyota\", \"Camry\")\n",
    "\n",
    "print(car1.make)  # Output: Toyota\n",
    "car1.start_engine()  # Output: Toyota Camry's engine is started.\n"
   ]
  },
  {
   "cell_type": "code",
   "execution_count": null,
   "metadata": {},
   "outputs": [],
   "source": []
  },
  {
   "cell_type": "code",
   "execution_count": null,
   "metadata": {},
   "outputs": [],
   "source": []
  },
  {
   "cell_type": "code",
   "execution_count": 9,
   "metadata": {},
   "outputs": [
    {
     "data": {
      "text/plain": [
       "\"class:\\n\\nThe class keyword is used to define a new class in Python.\\nIn this case, you're creating a class called Person.\\ndef:\\n\\nThe def keyword is used to define a function (or method) within a class.\\nIn your code, there are two functions defined within the Person class: __init__ and introduce.\\nself:\\n\\nself is a convention in Python, though you could name it differently if you want (but self is recommended).\\nself refers to the instance of the class itself. It is the first parameter passed to every instance method.\\nWhen you create an object of the class (e.g., person1 and person2), Python automatically passes the instance as self to the methods of that object.\\n__init__:\\n\\n__init__ is a special method in Python known as the constructor.\\nIt is called when an object of the class is created.\\nThe self parameter refers to the instance being created (e.g., person1 or person2).\\nInside __init__, you initialize the object's attributes. In your code, name and age are attributes of the Person object.\\nintroduce:\\n\\nintroduce is another method defined within the Person class.\\nIt's a custom method that you've created to allow instances of the class to introduce themselves.\\nInside the introduce method, you use f-strings to create a formatted string that includes the name and age attributes of the object.\""
      ]
     },
     "execution_count": 9,
     "metadata": {},
     "output_type": "execute_result"
    }
   ],
   "source": [
    "\"\"\"class:\n",
    "\n",
    "The class keyword is used to define a new class in Python.\n",
    "In this case, you're creating a class called Person.\n",
    "def:\n",
    "\n",
    "The def keyword is used to define a function (or method) within a class.\n",
    "In your code, there are two functions defined within the Person class: __init__ and introduce.\n",
    "self:\n",
    "\n",
    "self is a convention in Python, though you could name it differently if you want (but self is recommended).\n",
    "self refers to the instance of the class itself. It is the first parameter passed to every instance method.\n",
    "When you create an object of the class (e.g., person1 and person2), Python automatically passes the instance as self to the methods of that object.\n",
    "__init__:\n",
    "\n",
    "__init__ is a special method in Python known as the constructor.\n",
    "It is called when an object of the class is created.\n",
    "The self parameter refers to the instance being created (e.g., person1 or person2).\n",
    "Inside __init__, you initialize the object's attributes. In your code, name and age are attributes of the Person object.\n",
    "introduce:\n",
    "\n",
    "introduce is another method defined within the Person class.\n",
    "It's a custom method that you've created to allow instances of the class to introduce themselves.\n",
    "Inside the introduce method, you use f-strings to create a formatted string that includes the name and age attributes of the object.\"\"\""
   ]
  },
  {
   "cell_type": "code",
   "execution_count": 1,
   "metadata": {},
   "outputs": [
    {
     "data": {
      "text/plain": [
       "8"
      ]
     },
     "execution_count": 1,
     "metadata": {},
     "output_type": "execute_result"
    }
   ],
   "source": [
    "3+5"
   ]
  },
  {
   "cell_type": "code",
   "execution_count": null,
   "metadata": {},
   "outputs": [],
   "source": []
  }
 ],
 "metadata": {
  "kernelspec": {
   "display_name": "Python 3",
   "language": "python",
   "name": "python3"
  },
  "language_info": {
   "codemirror_mode": {
    "name": "ipython",
    "version": 3
   },
   "file_extension": ".py",
   "mimetype": "text/x-python",
   "name": "python",
   "nbconvert_exporter": "python",
   "pygments_lexer": "ipython3",
   "version": "3.11.3"
  },
  "orig_nbformat": 4
 },
 "nbformat": 4,
 "nbformat_minor": 2
}
